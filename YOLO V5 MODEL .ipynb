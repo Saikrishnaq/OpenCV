{
 "cells": [
  {
   "cell_type": "code",
   "execution_count": 5,
   "id": "c3c3016b-0d1d-4e4d-8211-a550ccf5836f",
   "metadata": {},
   "outputs": [
    {
     "name": "stderr",
     "output_type": "stream",
     "text": [
      "Using cache found in C:\\Users\\manas/.cache\\torch\\hub\\ultralytics_yolov5_master\n",
      "YOLOv5  2025-5-20 Python-3.12.4 torch-2.7.0+cpu CPU\n",
      "\n",
      "Fusing layers... \n",
      "YOLOv5s summary: 213 layers, 7225885 parameters, 0 gradients, 16.4 GFLOPs\n",
      "Adding AutoShape... \n",
      "C:\\Users\\manas/.cache\\torch\\hub\\ultralytics_yolov5_master\\models\\common.py:907: FutureWarning: `torch.cuda.amp.autocast(args...)` is deprecated. Please use `torch.amp.autocast('cuda', args...)` instead.\n",
      "  with amp.autocast(autocast):\n"
     ]
    },
    {
     "name": "stdout",
     "output_type": "stream",
     "text": [
      "\n",
      " Starting detection and compression...\n",
      " Video opened successfully.\n"
     ]
    },
    {
     "name": "stderr",
     "output_type": "stream",
     "text": [
      "C:\\Users\\manas/.cache\\torch\\hub\\ultralytics_yolov5_master\\models\\common.py:907: FutureWarning: `torch.cuda.amp.autocast(args...)` is deprecated. Please use `torch.amp.autocast('cuda', args...)` instead.\n",
      "  with amp.autocast(autocast):\n",
      "C:\\Users\\manas/.cache\\torch\\hub\\ultralytics_yolov5_master\\models\\common.py:907: FutureWarning: `torch.cuda.amp.autocast(args...)` is deprecated. Please use `torch.amp.autocast('cuda', args...)` instead.\n",
      "  with amp.autocast(autocast):\n",
      "C:\\Users\\manas/.cache\\torch\\hub\\ultralytics_yolov5_master\\models\\common.py:907: FutureWarning: `torch.cuda.amp.autocast(args...)` is deprecated. Please use `torch.amp.autocast('cuda', args...)` instead.\n",
      "  with amp.autocast(autocast):\n",
      "C:\\Users\\manas/.cache\\torch\\hub\\ultralytics_yolov5_master\\models\\common.py:907: FutureWarning: `torch.cuda.amp.autocast(args...)` is deprecated. Please use `torch.amp.autocast('cuda', args...)` instead.\n",
      "  with amp.autocast(autocast):\n",
      "C:\\Users\\manas/.cache\\torch\\hub\\ultralytics_yolov5_master\\models\\common.py:907: FutureWarning: `torch.cuda.amp.autocast(args...)` is deprecated. Please use `torch.amp.autocast('cuda', args...)` instead.\n",
      "  with amp.autocast(autocast):\n",
      "C:\\Users\\manas/.cache\\torch\\hub\\ultralytics_yolov5_master\\models\\common.py:907: FutureWarning: `torch.cuda.amp.autocast(args...)` is deprecated. Please use `torch.amp.autocast('cuda', args...)` instead.\n",
      "  with amp.autocast(autocast):\n",
      "C:\\Users\\manas/.cache\\torch\\hub\\ultralytics_yolov5_master\\models\\common.py:907: FutureWarning: `torch.cuda.amp.autocast(args...)` is deprecated. Please use `torch.amp.autocast('cuda', args...)` instead.\n",
      "  with amp.autocast(autocast):\n",
      "C:\\Users\\manas/.cache\\torch\\hub\\ultralytics_yolov5_master\\models\\common.py:907: FutureWarning: `torch.cuda.amp.autocast(args...)` is deprecated. Please use `torch.amp.autocast('cuda', args...)` instead.\n",
      "  with amp.autocast(autocast):\n",
      "C:\\Users\\manas/.cache\\torch\\hub\\ultralytics_yolov5_master\\models\\common.py:907: FutureWarning: `torch.cuda.amp.autocast(args...)` is deprecated. Please use `torch.amp.autocast('cuda', args...)` instead.\n",
      "  with amp.autocast(autocast):\n"
     ]
    },
    {
     "name": "stdout",
     "output_type": "stream",
     "text": [
      " Detection stopped by user.\n",
      "\n",
      " Suspicious frames with non-person objects:\n",
      "\n",
      " Showing suspicious snapshots...\n",
      " Showing 513 suspicious snapshots. Press any key for next, ESC to exit.\n"
     ]
    }
   ],
   "source": [
    "import cv2\n",
    "import os\n",
    "import torch\n",
    "import glob\n",
    "import yt_dlp\n",
    "\n",
    "model = torch.hub.load('ultralytics/yolov5', 'yolov5s', pretrained=True)\n",
    "model.eval()\n",
    "def download_video_from_youtube(url, save_path):\n",
    "    print(f\" Downloading video from: {url}\")\n",
    "    ydl_opts = {\n",
    "        'outtmpl': save_path,\n",
    "        'format': 'bestvideo[ext=mp4]+bestaudio[ext=m4a]/mp4',\n",
    "        'merge_output_format': 'mp4',\n",
    "        'quiet': False\n",
    "    }\n",
    "    with yt_dlp.YoutubeDL(ydl_opts) as ydl:\n",
    "        ydl.download([url])\n",
    "    print(f\" Video downloaded and saved as: {save_path}\")\n",
    "def detect_and_compress(input_path, output_path, snapshot_dir):\n",
    "    os.makedirs(snapshot_dir, exist_ok=True)\n",
    "\n",
    "    cap = cv2.VideoCapture(input_path)\n",
    "    if not cap.isOpened():\n",
    "        print(f\" Failed to open video: {input_path}\")\n",
    "        return\n",
    "    print(\" Video opened successfully.\")\n",
    "    fps = cap.get(cv2.CAP_PROP_FPS) or 30\n",
    "    w = int(cap.get(cv2.CAP_PROP_FRAME_WIDTH)) // 2\n",
    "    h = int(cap.get(cv2.CAP_PROP_FRAME_HEIGHT)) // 2\n",
    "    out = cv2.VideoWriter(output_path, cv2.VideoWriter_fourcc(*'mp4v'), fps, (w, h))\n",
    "    frame_num = 0\n",
    "    suspicious_log = []\n",
    "    while True:\n",
    "        ret, frame = cap.read()\n",
    "        if not ret:\n",
    "            break\n",
    "        frame_num += 1\n",
    "        results = model(frame)\n",
    "        detections = results.xyxy[0]\n",
    "        names = model.names\n",
    "        suspicious = False\n",
    "        for *box, conf, cls in detections:\n",
    "            x1, y1, x2, y2 = map(int, box)\n",
    "            label = names[int(cls)]\n",
    "\n",
    "            if label == \"person\":\n",
    "                color = (0, 255, 0)\n",
    "                text = \"Normal Person\"\n",
    "            else:\n",
    "                color = (0, 0, 255)\n",
    "                text = \"Suspicious\"\n",
    "                suspicious = True\n",
    "            cv2.rectangle(frame, (x1, y1), (x2, y2), color, 2)\n",
    "            cv2.putText(frame, text, (x1, y1 - 10), cv2.FONT_HERSHEY_SIMPLEX, 0.6, color, 2)\n",
    "        if suspicious:\n",
    "            snap_path = os.path.join(snapshot_dir, f\"suspicious_frame_{frame_num}.jpg\")\n",
    "            cv2.imwrite(snap_path, frame)\n",
    "            suspicious_log.append((frame_num, frame_num / fps))\n",
    "        resized = cv2.resize(frame, (w, h))\n",
    "        out.write(resized)\n",
    "        cv2.imshow(\" Compressed Detection\", resized)\n",
    "        if cv2.waitKey(1) & 0xFF == 27:\n",
    "            print(\" Detection stopped by user.\")\n",
    "            break\n",
    "    cap.release()\n",
    "    out.release()\n",
    "    cv2.destroyAllWindows()\n",
    "    print(\"\\n Suspicious frames with non-person objects:\")\n",
    "    for f, t in suspicious_log:\n",
    "        print(f\" Frame {f} at {t:.2f} seconds\")\n",
    "def show_snapshots(folder):\n",
    "    images = sorted(glob.glob(os.path.join(folder, \"*.jpg\")))\n",
    "    if not images:\n",
    "        print(\" No suspicious snapshots found.\")\n",
    "        return\n",
    "    print(f\" Showing {len(images)} suspicious snapshots. Press any key for next, ESC to exit.\")\n",
    "    for img_path in images:\n",
    "        img = cv2.imread(img_path)\n",
    "        cv2.imshow(\"Suspicious Snapshot\", img)\n",
    "        if cv2.waitKey(0) & 0xFF == 27:\n",
    "            break\n",
    "    cv2.destroyAllWindows()\n",
    "def main():\n",
    "    yt_url = \"https://www.youtube.com/watch?v=9_mhedrKICs\"\n",
    "    local_video_path = \"input_downloaded.mp4\"\n",
    "    output_video = \"output_compressed.mp4\"\n",
    "    snapshot_dir = \"snapshots\"\n",
    "    if not os.path.exists(local_video_path):\n",
    "        download_video_from_youtube(yt_url, local_video_path)\n",
    "    print(\"\\n Starting detection and compression...\")\n",
    "    detect_and_compress(local_video_path, output_video, snapshot_dir)\n",
    "    print(\"\\n Showing suspicious snapshots...\")\n",
    "    show_snapshots(snapshot_dir)\n",
    "if __name__ == \"__main__\":\n",
    "    main()\n"
   ]
  },
  {
   "cell_type": "code",
   "execution_count": null,
   "id": "ec199743-22fa-4df6-95e5-746e26fa2309",
   "metadata": {},
   "outputs": [],
   "source": []
  },
  {
   "cell_type": "code",
   "execution_count": null,
   "id": "c1f9a4ad-20a7-4000-8d4f-9fab906d5e87",
   "metadata": {},
   "outputs": [],
   "source": []
  },
  {
   "cell_type": "code",
   "execution_count": null,
   "id": "05e8b016-efc2-488e-aadf-b30fc2994514",
   "metadata": {},
   "outputs": [],
   "source": []
  },
  {
   "cell_type": "code",
   "execution_count": null,
   "id": "da35d1a2-d256-48db-93fd-fa453b8b7860",
   "metadata": {},
   "outputs": [],
   "source": []
  },
  {
   "cell_type": "code",
   "execution_count": null,
   "id": "3d867737-1e77-45ca-8892-af394c045e89",
   "metadata": {},
   "outputs": [],
   "source": []
  },
  {
   "cell_type": "code",
   "execution_count": null,
   "id": "cc60b85b-bfa0-4ece-af35-805fccc54472",
   "metadata": {},
   "outputs": [],
   "source": []
  },
  {
   "cell_type": "code",
   "execution_count": null,
   "id": "2cee61fd-1fe9-49c4-99a6-3e74225f9fad",
   "metadata": {},
   "outputs": [],
   "source": []
  },
  {
   "cell_type": "code",
   "execution_count": null,
   "id": "12a6f63b-1dd0-4f79-a4ee-1d7b19895c60",
   "metadata": {},
   "outputs": [],
   "source": []
  },
  {
   "cell_type": "code",
   "execution_count": null,
   "id": "8e012252-d46b-45ed-bfb8-92ab722d88c3",
   "metadata": {},
   "outputs": [],
   "source": []
  },
  {
   "cell_type": "code",
   "execution_count": null,
   "id": "169da04e-aa4c-40c8-804d-769b258a255c",
   "metadata": {},
   "outputs": [],
   "source": []
  },
  {
   "cell_type": "code",
   "execution_count": null,
   "id": "4bd760fa-ae12-4750-ab99-5c931ad7693d",
   "metadata": {},
   "outputs": [],
   "source": []
  },
  {
   "cell_type": "code",
   "execution_count": null,
   "id": "3a5da35b-45ad-43d9-9791-73e4d4dfe328",
   "metadata": {},
   "outputs": [],
   "source": []
  },
  {
   "cell_type": "code",
   "execution_count": null,
   "id": "035f09ab-850c-4ba3-9399-abb85187e574",
   "metadata": {},
   "outputs": [],
   "source": []
  },
  {
   "cell_type": "code",
   "execution_count": null,
   "id": "620a968e-0c3d-460b-a8fa-3c09a85734a5",
   "metadata": {},
   "outputs": [],
   "source": []
  },
  {
   "cell_type": "code",
   "execution_count": null,
   "id": "33caed8e-4c7a-4877-bf75-4fdc8b946f6e",
   "metadata": {},
   "outputs": [],
   "source": []
  },
  {
   "cell_type": "code",
   "execution_count": null,
   "id": "4c4551c5-fe69-41d4-8de7-614964d93860",
   "metadata": {},
   "outputs": [],
   "source": []
  },
  {
   "cell_type": "code",
   "execution_count": null,
   "id": "19658b76-3948-464e-b6cf-bc015147c9bc",
   "metadata": {},
   "outputs": [],
   "source": []
  },
  {
   "cell_type": "code",
   "execution_count": null,
   "id": "9af2320a-408b-4d4d-8617-869940072ec2",
   "metadata": {},
   "outputs": [],
   "source": []
  }
 ],
 "metadata": {
  "kernelspec": {
   "display_name": "Python 3 (ipykernel)",
   "language": "python",
   "name": "python3"
  },
  "language_info": {
   "codemirror_mode": {
    "name": "ipython",
    "version": 3
   },
   "file_extension": ".py",
   "mimetype": "text/x-python",
   "name": "python",
   "nbconvert_exporter": "python",
   "pygments_lexer": "ipython3",
   "version": "3.12.4"
  }
 },
 "nbformat": 4,
 "nbformat_minor": 5
}
